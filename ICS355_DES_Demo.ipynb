{
 "cells": [
  {
   "cell_type": "code",
   "execution_count": null,
   "metadata": {},
   "outputs": [],
   "source": [
    "#Demo: Crypt\n",
    "\n",
    "#Required\n",
    "#pip install pycrypto\n",
    "#pip install crcmod"
   ]
  },
  {
   "cell_type": "code",
   "execution_count": null,
   "metadata": {
    "scrolled": true
   },
   "outputs": [],
   "source": [
    "#Shows the number of key combinations in a readable format\n",
    "key_size_in_bits=112\n",
    "\"{:,}\".format(2**key_size_in_bits)"
   ]
  },
  {
   "cell_type": "code",
   "execution_count": 1,
   "metadata": {},
   "outputs": [
    {
     "ename": "ImportError",
     "evalue": "No module named 'Crypto'",
     "output_type": "error",
     "traceback": [
      "\u001b[0;31m---------------------------------------------------------------------------\u001b[0m",
      "\u001b[0;31mImportError\u001b[0m                               Traceback (most recent call last)",
      "\u001b[0;32m<ipython-input-1-ca7499528a64>\u001b[0m in \u001b[0;36m<module>\u001b[0;34m()\u001b[0m\n\u001b[1;32m      1\u001b[0m \u001b[0;31m#DES Example\u001b[0m\u001b[0;34m\u001b[0m\u001b[0;34m\u001b[0m\u001b[0m\n\u001b[1;32m      2\u001b[0m \u001b[0;31m#http://www.umich.edu/~x509/ssleay/des-weak.html\u001b[0m\u001b[0;34m\u001b[0m\u001b[0;34m\u001b[0m\u001b[0m\n\u001b[0;32m----> 3\u001b[0;31m \u001b[0;32mfrom\u001b[0m \u001b[0mCrypto\u001b[0m\u001b[0;34m.\u001b[0m\u001b[0mCipher\u001b[0m \u001b[0;32mimport\u001b[0m \u001b[0mDES\u001b[0m\u001b[0;34m\u001b[0m\u001b[0m\n\u001b[0m\u001b[1;32m      4\u001b[0m \u001b[0;32mfrom\u001b[0m \u001b[0mCrypto\u001b[0m \u001b[0;32mimport\u001b[0m \u001b[0mRandom\u001b[0m\u001b[0;34m\u001b[0m\u001b[0m\n\u001b[1;32m      5\u001b[0m \u001b[0;31m#Set the Initialization Vector (IV)\u001b[0m\u001b[0;34m\u001b[0m\u001b[0;34m\u001b[0m\u001b[0m\n",
      "\u001b[0;31mImportError\u001b[0m: No module named 'Crypto'"
     ]
    }
   ],
   "source": [
    "#DES Example\n",
    "#http://www.umich.edu/~x509/ssleay/des-weak.html\n",
    "from Crypto.Cipher import DES\n",
    "from Crypto import Random\n",
    "#Set the Initialization Vector (IV)\n",
    "iv = Random.new().read(DES.block_size)\n",
    "#Set the plaintext to be encrypted. It must be a multiple of 16\n",
    "plaintext = b'ICS355 DES Test!' #Multiple of 16\n",
    "#Set the key. It must be 8 bytes\n",
    "skey=\"01fe01fe01fe01fe\" #8 bytes\n",
    "#The library requires a string byte array\n",
    "key= str(bytearray.fromhex(skey))\n",
    "#Create an instance of the cipher\n",
    "cipher = DES.new(key, DES.MODE_OFB, iv)\n",
    "#Encrypt the message. You all need to share the IV. You can append this to the message\n",
    "msg = iv + cipher.encrypt(plaintext)\n",
    "#msg = cipher.encrypt(plaintext)\n",
    "#Print the encrypted message. This is what would be sent.\n",
    "msg\n",
    "#Get the IV\n",
    "iv =msg[:DES.block_size]\n",
    "#Get the encrypted message\n",
    "encryptedmsg=msg[DES.block_size:]\n",
    "#Create a new instance of the encryption library on the remote box\n",
    "cipher = DES.new(key, DES.MODE_OFB, iv)\n",
    "#Decrypt the message\n",
    "mydecrypt= cipher.decrypt(encryptedmsg)\n",
    "#Decypted message\n",
    "mydecrypt"
   ]
  },
  {
   "cell_type": "code",
   "execution_count": null,
   "metadata": {},
   "outputs": [],
   "source": [
    "#DES Example 2\n",
    "from Crypto.Cipher import DES\n",
    "from Crypto import Random\n",
    "skey=\"ffffffffffffffff\"\n",
    "key= str(bytearray.fromhex(skey))\n",
    "cipher = DES.new(key, DES.MODE_OFB, iv)\n",
    "#msg = iv + cipher.encrypt(plaintext)\n",
    "msg = cipher.encrypt(plaintext)\n",
    "msg\n",
    "mydecrypt= cipher.decrypt(msg)\n",
    "mydecrypt"
   ]
  },
  {
   "cell_type": "code",
   "execution_count": null,
   "metadata": {},
   "outputs": [],
   "source": [
    "#DES Example 3\n",
    "from Crypto.Cipher import DES\n",
    "from Crypto import Random\n",
    "skey=\"0000000000000000\"\n",
    "key= str(bytearray.fromhex(skey))\n",
    "cipher = DES.new(key, DES.MODE_OFB, iv)\n",
    "#msg = iv + cipher.encrypt(plaintext)\n",
    "msg = cipher.encrypt(plaintext)\n",
    "msg\n",
    "mydecrypt= cipher.decrypt(msg)\n",
    "mydecrypt"
   ]
  },
  {
   "cell_type": "code",
   "execution_count": null,
   "metadata": {},
   "outputs": [],
   "source": [
    "#DES Weak Key Example\n",
    "#Semi-Weak Key Demo based on EK1(EK2(x))=x\n",
    "#Must use ECB mode for demo\n",
    "#Reference for keys: http://www.umich.edu/~x509/ssleay/des-weak.html\n",
    "#Reference http://crypto.stackexchange.com/questions/12214/can-you-explain-weak-keys-for-des\n",
    "from Crypto.Cipher import DES\n",
    "from Crypto import Random\n",
    "#IV not needed for ECB mode\n",
    "#iv = Random.new().read(DES.block_size)\n",
    "plaintext = b'ICS355 DES Test!' #Multiple of 16\n",
    "desmode=DES.MODE_ECB #[DES.MODE_CBC, DES.MODE_CFB, DES.MODE_ECB, DES.MODE_OFB, DES.MODE_OPENPGP]: #DES.MODE_CTR requires a counter\n",
    "\n",
    "SemiWeakKeys=[[\"01FE 01FE 01FE 01FE\", \"FE01 FE01 FE01 FE01\"],\n",
    "              [\"1FE0 1FE0 0EF1 0EF1\", \"E01F E01F F10E F10E\"],\n",
    "              [\"01E0 01E0 01F1 01F1\", \"E001 E001 F101 F101\"],\n",
    "              [\"1FFE 1FFE 0EFE 0EFE\", \"FE1F FE1F FE0E FE0E\"],\n",
    "              [\"011F 011F 010E 010E\", \"1F01 1F01 0E01 0E01\"],\n",
    "              [\"E0FE E0FE F1FE F1FE\", \"FEE0 FEE0 FEF1 FEF1\"]]\n",
    "for key1,key2 in SemiWeakKeys:\n",
    "    skey=key1\n",
    "    key= str(bytearray.fromhex(skey))\n",
    "    cipher = DES.new(key, desmode)\n",
    "    #msg = iv + cipher.encrypt(plaintext)\n",
    "    ctext = cipher.encrypt(plaintext)\n",
    "    print \"Key1:\",ctext\n",
    "    skey=key2\n",
    "    key= str(bytearray.fromhex(skey))\n",
    "    cipher = DES.new(key, desmode)\n",
    "    msg= cipher.encrypt(ctext)\n",
    "    print \"Key2:\",msg"
   ]
  }
 ],
 "metadata": {
  "kernelspec": {
   "display_name": "Python 2",
   "language": "python",
   "name": "python2"
  },
  "language_info": {
   "codemirror_mode": {
    "name": "ipython",
    "version": 3
   },
   "file_extension": ".py",
   "mimetype": "text/x-python",
   "name": "python",
   "nbconvert_exporter": "python",
   "pygments_lexer": "ipython3",
   "version": "3.5.2"
  }
 },
 "nbformat": 4,
 "nbformat_minor": 2
}
