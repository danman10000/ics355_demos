{
 "cells": [
  {
   "cell_type": "markdown",
   "metadata": {},
   "source": [
    "# DES Crypt Demo\n",
    "\n",
    "### Required\n",
    "* pip install pycrypto\n",
    "* pip install crcmod\n",
    "\n",
    "## Example 1: Key Combinations\n",
    "This example shows the number of key combinations based on the number of bits in a readable formation"
   ]
  },
  {
   "cell_type": "code",
   "execution_count": null,
   "metadata": {},
   "outputs": [],
   "source": [
    "key_size_in_bits=112\n",
    "\"{:,}\".format(2**key_size_in_bits)"
   ]
  },
  {
   "cell_type": "markdown",
   "metadata": {},
   "source": [
    "## Example 2: DES\n",
    "This example will show the normal usage of DES in a Python script.\n",
    "Reference: http://www.umich.edu/~x509/ssleay/des-weak.html"
   ]
  },
  {
   "cell_type": "code",
   "execution_count": null,
   "metadata": {},
   "outputs": [],
   "source": [
    "from Crypto.Cipher import DES\n",
    "from Crypto import Random\n",
    "import binascii\n",
    "#Set the Initialization Vector (IV)\n",
    "iv = Random.new().read(DES.block_size)\n",
    "#Set the plaintext to be encrypted. It must be a multiple of 16\n",
    "plaintext = b'ICS355 DES Test!' #Multiple of 16\n",
    "#Set the key. It must be 8 bytes\n",
    "skey=\"01fe01fe01fe01fe\" #8 bytes\n",
    "#The library requires a string byte array\n",
    "key= str(bytearray.fromhex(skey))\n",
    "#Create an instance of the cipher\n",
    "cipher = DES.new(key, DES.MODE_OFB, iv)\n",
    "#Encrypt the message. You all need to share the IV. You can append this to the message\n",
    "msg = iv + cipher.encrypt(plaintext)\n",
    "#msg = cipher.encrypt(plaintext)\n",
    "#Print the encrypted message. This is what would be sent.\n",
    "print \"Encrypted message:\\n\", binascii.hexlify(msg)\n",
    "#Get the IV\n",
    "iv =msg[:DES.block_size]\n",
    "#Get the encrypted message\n",
    "encryptedmsg=msg[DES.block_size:]\n",
    "#Create a new instance of the encryption library on the remote box\n",
    "cipher = DES.new(key, DES.MODE_OFB, iv)\n",
    "#Decrypt the message\n",
    "mydecrypt= cipher.decrypt(encryptedmsg)\n",
    "#Decypted message\n",
    "print \"Decrypted message:\\n\",mydecrypt"
   ]
  },
  {
   "cell_type": "markdown",
   "metadata": {},
   "source": [
    "## Example 3:  DES Weak Keys\n",
    "This shows an example of how not to use DES. A key of all 0s or all 1s results in a non-unique derived key. Unfortunately we are unable to see the internal keys since the Python library hides it from us. Note the second half of the output was decrypted with a different key."
   ]
  },
  {
   "cell_type": "code",
   "execution_count": null,
   "metadata": {},
   "outputs": [],
   "source": [
    "from Crypto.Cipher import DES\n",
    "from Crypto import Random\n",
    "import binascii\n",
    "iv = Random.new().read(DES.block_size)\n",
    "skey=\"ffffffffffffffff\"\n",
    "key= str(bytearray.fromhex(skey))\n",
    "cipher = DES.new(key, DES.MODE_OFB, iv)\n",
    "#msg = iv + cipher.encrypt(plaintext)\n",
    "msg = cipher.encrypt(plaintext)\n",
    "print \"Encrypted message:\\n\", binascii.hexlify(msg)\n",
    "skey2=\"0000000000000000\"\n",
    "#skey2=\"0101010101010101\" #You can try this one too!\n",
    "key2= str(bytearray.fromhex(skey2))\n",
    "cipher2 = DES.new(key2, DES.MODE_OFB, iv)\n",
    "mydecrypt= cipher2.decrypt(msg)\n",
    "print \"Decrypted message:\\n\",mydecrypt"
   ]
  },
  {
   "cell_type": "markdown",
   "metadata": {},
   "source": [
    "## Example 4: DES Semi-Weak Keys\n",
    "There are a handful of keys that can be used interchangeably which is something you never want to happen. \n",
    "\n",
    "For a symmetric algorithm you never want to see this situation: EK1(EK2(x))=x\n",
    "\n",
    "Reference: http://www.umich.edu/~x509/ssleay/des-weak.html and http://crypto.stackexchange.com/questions/12214/can-you-explain-weak-keys-for-des \n",
    "\n",
    "Note: Must use ECB mode for demo"
   ]
  },
  {
   "cell_type": "code",
   "execution_count": null,
   "metadata": {},
   "outputs": [],
   "source": [
    "from Crypto.Cipher import DES\n",
    "from Crypto import Random\n",
    "import binascii\n",
    "#IV not needed for ECB mode\n",
    "iv = Random.new().read(DES.block_size)\n",
    "plaintext = b'ICS355 DES Test!' #Multiple of 16\n",
    "desmode=DES.MODE_ECB #[DES.MODE_CBC, DES.MODE_CFB, DES.MODE_ECB, DES.MODE_OFB, DES.MODE_OPENPGP]: #DES.MODE_CTR requires a counter\n",
    "\n",
    "SemiWeakKeys=[[\"01FE 01FE 01FE 01FE\", \"FE01 FE01 FE01 FE01\"],\n",
    "              [\"1FE0 1FE0 0EF1 0EF1\", \"E01F E01F F10E F10E\"],\n",
    "              [\"01E0 01E0 01F1 01F1\", \"E001 E001 F101 F101\"],\n",
    "              [\"1FFE 1FFE 0EFE 0EFE\", \"FE1F FE1F FE0E FE0E\"],\n",
    "              [\"011F 011F 010E 010E\", \"1F01 1F01 0E01 0E01\"],\n",
    "              [\"E0FE E0FE F1FE F1FE\", \"FEE0 FEE0 FEF1 FEF1\"]]\n",
    "for key1,key2 in SemiWeakKeys:\n",
    "    skey=key1\n",
    "    key= str(bytearray.fromhex(skey))\n",
    "    cipher = DES.new(key, desmode)\n",
    "    #msg = iv + cipher.encrypt(plaintext)\n",
    "    ctext = cipher.encrypt(plaintext)\n",
    "    print \"Key1 Ciphertext:\\n\",binascii.hexlify(ctext)\n",
    "    skey=key2\n",
    "    key= str(bytearray.fromhex(skey))\n",
    "    cipher = DES.new(key, desmode)\n",
    "    msg= cipher.encrypt(ctext)\n",
    "    print \"Key2: Plaintext:\\n\",msg\n",
    "    print \"\\n\""
   ]
  }
 ],
 "metadata": {
  "kernelspec": {
   "display_name": "Python 2",
   "language": "python",
   "name": "python2"
  },
  "language_info": {
   "codemirror_mode": {
    "name": "ipython",
    "version": 2
   },
   "file_extension": ".py",
   "mimetype": "text/x-python",
   "name": "python",
   "nbconvert_exporter": "python",
   "pygments_lexer": "ipython2",
   "version": "2.7.12"
  }
 },
 "nbformat": 4,
 "nbformat_minor": 2
}
