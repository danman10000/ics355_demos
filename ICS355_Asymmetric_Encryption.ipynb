{
 "cells": [
  {
   "cell_type": "markdown",
   "metadata": {},
   "source": [
    "# Asymmetric Encryption"
   ]
  },
  {
   "cell_type": "markdown",
   "metadata": {},
   "source": [
    "Use hard math problems called “Trapdoor Functions”\n",
    "\n",
    "### Example: Factoring Multiples of Primes\n",
    "* Easy to multiply hard to factor\n",
    "* Difficult to process without a key but easy to process with a key (the “trapdoor”)"
   ]
  },
  {
   "cell_type": "code",
   "execution_count": null,
   "metadata": {},
   "outputs": [],
   "source": [
    "#Lets test this idea...\n",
    "import cProfile, pstats, StringIO\n",
    "\n",
    "Prime1=307 #Try some others 7907 15485857 7919 15485863 \n",
    "Prime2=293\n",
    "\n",
    "#or get some big primes from here:https://primes.utm.edu/\n",
    "\n",
    "def factors(n):    \n",
    "    return set(reduce(list.__add__, \n",
    "                ([i, n//i] for i in range(1, int(n**0.5) + 1) if n % i == 0)))\n",
    "\n",
    "def printStats(pr):\n",
    "    s = StringIO.StringIO()\n",
    "    sortby = 'cumulative'\n",
    "    ps = pstats.Stats(pr, stream=s).sort_stats(sortby)\n",
    "    ps.print_stats()\n",
    "    print s.getvalue()\n",
    "\n",
    "pr = cProfile.Profile()\n",
    "pr.enable()\n",
    "MyProduct=Prime1 * Prime2\n",
    "pr.disable()\n",
    "print \"Product of 2 Primes=\", MyProduct\n",
    "print \"Execution Stats:\\n\",printStats(pr)\n",
    "\n",
    "\n",
    "print \"Lets factor it!\"\n",
    "\n",
    "pr.enable()\n",
    "MyFactors=factors(MyProduct)\n",
    "pr.disable()\n",
    "print \"Factors of \", MyProduct, \" are:\",MyFactors\n",
    "print \"Execution Stats:\\n\",printStats(pr)"
   ]
  },
  {
   "cell_type": "markdown",
   "metadata": {},
   "source": [
    "### Risk\n",
    "Attacker can use known plaintext and A's public Ke to test a generated private key.\n",
    "\n",
    "### Computation \n",
    "Asymmetric key encryption is very expensive \n",
    "Never encrypt message; transmit encrypted symmetric key \n",
    "\n",
    "Ex: In software RSA is 100 times slower than DES\n",
    "         \n",
    "         In embedded hardware it is even slower \n",
    "\n",
    "### Delay Time\n",
    "Stream ≤ Stream-Block ≤ Block <br>\n",
    "DES: 64-bit blocks<br>\n",
    "RSA: 100-200-bit blocks (short blocks: limited security) \n"
   ]
  },
  {
   "cell_type": "markdown",
   "metadata": {},
   "source": [
    "## Diffie-Hellman Key Exchange"
   ]
  },
  {
   "cell_type": "markdown",
   "metadata": {},
   "source": [
    "* Created by Whitfield Diffie and Martin Hellman\n",
    "* One of the most common encryption protocols in use today. \n",
    "* Key exchange for SSL, TLS, SSH and IPsec\n",
    "* Key per session, not to be reused\n",
    "* A couple of variations have evolved\n",
    " * Ephemeral Diffie-Hellman (EDH)\n",
    " * Elliptic Curve Diffie-Hellman (ECDH)\n",
    " * Elliptic Curve Diffie-Hellman Ephemeral (ECDHE)"
   ]
  },
  {
   "cell_type": "markdown",
   "metadata": {},
   "source": [
    "### Example"
   ]
  },
  {
   "cell_type": "code",
   "execution_count": null,
   "metadata": {},
   "outputs": [],
   "source": [
    "#Alice & Bob: Agree on a large prime p (1024+ bits) \n",
    "p = 23 \n",
    "#Alice & Bob: Agree on a generator g\n",
    "base_g = 5\n",
    "\n",
    "#Alice & Bob: Choose private numbers a (S) & b (R) \n",
    "Apriv = 6 #Alice's secret\n",
    "Bpriv = 15 #Bob's secret\n",
    "\n",
    "print \"Alice sends Bob A = g^Apriv mod p\"\n",
    "#A = 5^6 mod 23\n",
    "Apub = (base_g**Apriv)%p\n",
    "print \"Alice's shared value->Bob=\",Apub\n",
    "\n",
    "\n",
    "print \"Bob sends Alice B = g^Bpriv mod p\"\n",
    "#B = 5^15 mod 23\n",
    "Bpub=(base_g**Bpriv)%p\n",
    "print \"Bob's shared value->Alice=\",Bpub,\"\\n\"\n",
    "\n",
    "print \"Alice computes s = B^Apriv mod p\"\n",
    "#s = 19*6 mod 23\n",
    "s=(Bpub**Apriv)%p\n",
    "print \"Alice has Shared Secret=\",s,\"\\n\"\n",
    "\n",
    "print \"Bob computes s = A^BPriv mod p\"\n",
    "#s = 8*15 mod 23\n",
    "s=(Apub**Bpriv)%p\n",
    "\n",
    "print \"Bob has Shared Secret=\",s\n",
    "#Alice and Bob now share a secret (2)."
   ]
  },
  {
   "cell_type": "markdown",
   "metadata": {},
   "source": [
    "Intruder cannot compute K even with p, g, g^x, g^y <br>\n",
    "Exponentiation (easy); Discrete Logarithm (hard) \n"
   ]
  }
 ],
 "metadata": {
  "kernelspec": {
   "display_name": "Python 2",
   "language": "python",
   "name": "python2"
  },
  "language_info": {
   "codemirror_mode": {
    "name": "ipython",
    "version": 2
   },
   "file_extension": ".py",
   "mimetype": "text/x-python",
   "name": "python",
   "nbconvert_exporter": "python",
   "pygments_lexer": "ipython2",
   "version": "2.7.12"
  }
 },
 "nbformat": 4,
 "nbformat_minor": 2
}
